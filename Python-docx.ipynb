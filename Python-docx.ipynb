{
 "cells": [
  {
   "cell_type": "code",
   "execution_count": 17,
   "metadata": {
    "collapsed": false
   },
   "outputs": [],
   "source": [
    "from docx import Document\n",
    "from docx.enum.text import WD_ALIGN_PARAGRAPH, WD_TAB_LEADER, WD_TAB_ALIGNMENT\n",
    "from docx.shared import Inches\n",
    "from docx.shared import Pt\n",
    "from docx.shared import Length"
   ]
  },
  {
   "cell_type": "code",
   "execution_count": 18,
   "metadata": {
    "collapsed": false,
    "scrolled": true
   },
   "outputs": [],
   "source": [
    "document = Document()\n",
    "\n",
    "m= document.add_heading(' MEMORIA DESCRIPTIVA ')\n",
    "m.alignment = WD_ALIGN_PARAGRAPH.CENTER\n",
    "\n",
    "n=document.add_paragraph()\n",
    "n.add_run('GSP02-09-01-011-PRO-B').bold= True\n",
    "n.alignment=   WD_ALIGN_PARAGRAPH.CENTER"
   ]
  },
  {
   "cell_type": "code",
   "execution_count": 19,
   "metadata": {
    "collapsed": false
   },
   "outputs": [],
   "source": [
    "# tabs \\t or \\n use slash inverted\n",
    "# pa= document.add_paragraph('\\t \\t \\t hola')"
   ]
  },
  {
   "cell_type": "markdown",
   "metadata": {},
   "source": [
    "CONDICION LEGAL"
   ]
  },
  {
   "cell_type": "code",
   "execution_count": 20,
   "metadata": {
    "collapsed": false
   },
   "outputs": [
    {
     "name": "stderr",
     "output_type": "stream",
     "text": [
      "/home/stiben/anaconda3/lib/python3.5/site-packages/docx/styles/styles.py:54: UserWarning: style lookup by style_id is deprecated. Use style name as key instead.\n",
      "  warn(msg, UserWarning)\n"
     ]
    },
    {
     "data": {
      "text/plain": [
       "<docx.text.run.Run at 0x7f16efdd40f0>"
      ]
     },
     "execution_count": 20,
     "metadata": {},
     "output_type": "execute_result"
    }
   ],
   "source": [
    "paragraph=document.add_paragraph()\n",
    "paragraph_format=paragraph.paragraph_format\n",
    "paragraph.style= 'ListNumber'\n",
    "paragraph.add_run('CONDICION LEGAL :').bold=True\n",
    "paragraph.add_run('\\t \\t Propietario \\n  ')"
   ]
  },
  {
   "cell_type": "markdown",
   "metadata": {},
   "source": [
    "NOMBRES"
   ]
  },
  {
   "cell_type": "code",
   "execution_count": 21,
   "metadata": {
    "collapsed": false
   },
   "outputs": [
    {
     "name": "stderr",
     "output_type": "stream",
     "text": [
      "/home/stiben/anaconda3/lib/python3.5/site-packages/docx/styles/styles.py:54: UserWarning: style lookup by style_id is deprecated. Use style name as key instead.\n",
      "  warn(msg, UserWarning)\n"
     ]
    },
    {
     "data": {
      "text/plain": [
       "<docx.text.run.Run at 0x7f16efdfd240>"
      ]
     },
     "execution_count": 21,
     "metadata": {},
     "output_type": "execute_result"
    }
   ],
   "source": [
    "paragraph=document.add_paragraph()\n",
    "paragraph_format=paragraph.paragraph_format\n",
    "paragraph.style= 'ListNumber'\n",
    "paragraph.add_run('NOMBRES :').bold=True\n",
    "paragraph.add_run('\\t \\t HUAYTA SULLA, LUCIANO \\n')"
   ]
  },
  {
   "cell_type": "markdown",
   "metadata": {},
   "source": [
    "ZONIFICACION"
   ]
  },
  {
   "cell_type": "code",
   "execution_count": 22,
   "metadata": {
    "collapsed": false
   },
   "outputs": [
    {
     "name": "stderr",
     "output_type": "stream",
     "text": [
      "/home/stiben/anaconda3/lib/python3.5/site-packages/docx/styles/styles.py:54: UserWarning: style lookup by style_id is deprecated. Use style name as key instead.\n",
      "  warn(msg, UserWarning)\n"
     ]
    },
    {
     "data": {
      "text/plain": [
       "<docx.text.run.Run at 0x7f16efd872b0>"
      ]
     },
     "execution_count": 22,
     "metadata": {},
     "output_type": "execute_result"
    }
   ],
   "source": [
    "paragraph=document.add_paragraph()\n",
    "paragraph_format=paragraph.paragraph_format\n",
    "paragraph.style= 'ListNumber'\n",
    "paragraph.add_run(' ZONIFICACION  ').bold=True\n",
    "\n",
    "paragraph=document.add_paragraph()\n",
    "paragraph_format=paragraph.paragraph_format\n",
    "paragraph.add_run('\\t Zonificación :')"
   ]
  },
  {
   "cell_type": "markdown",
   "metadata": {},
   "source": [
    "UBICACION"
   ]
  },
  {
   "cell_type": "code",
   "execution_count": 23,
   "metadata": {
    "collapsed": false
   },
   "outputs": [
    {
     "name": "stderr",
     "output_type": "stream",
     "text": [
      "/home/stiben/anaconda3/lib/python3.5/site-packages/docx/styles/styles.py:54: UserWarning: style lookup by style_id is deprecated. Use style name as key instead.\n",
      "  warn(msg, UserWarning)\n"
     ]
    },
    {
     "data": {
      "text/plain": [
       "<docx.text.run.Run at 0x7f16efd89630>"
      ]
     },
     "execution_count": 23,
     "metadata": {},
     "output_type": "execute_result"
    }
   ],
   "source": [
    "paragraph=document.add_paragraph()\n",
    "paragraph_format=paragraph.paragraph_format\n",
    "paragraph.style= 'ListNumber'\n",
    "paragraph.add_run('UBICACION : ').bold=True\n",
    "\n",
    "paragraph=document.add_paragraph()\n",
    "paragraph_format=paragraph.paragraph_format\n",
    "paragraph.add_run('\\t Centro Poblado/Caserio : \\n')\n",
    "paragraph.add_run('\\t Anexo/Sector           : \\n ')\n",
    "paragraph.add_run('\\t Distrito               : \\n ')\n",
    "paragraph.add_run('\\t Provincia              : \\n ')\n",
    "paragraph.add_run('\\t Departamento           : \\n ')\n",
    "paragraph.add_run('\\t Nombre del predio      : \\n ')\n",
    "paragraph.add_run('\\t Partida Electrónica    : \\n ')\n",
    "paragraph.add_run('\\t Unidad Catastral       : \\n ')\n",
    "paragraph.add_run('\\t Accesibilidad          : \\n ')\n"
   ]
  },
  {
   "cell_type": "markdown",
   "metadata": {},
   "source": [
    "LINDEROS"
   ]
  },
  {
   "cell_type": "code",
   "execution_count": 24,
   "metadata": {
    "collapsed": false
   },
   "outputs": [
    {
     "name": "stderr",
     "output_type": "stream",
     "text": [
      "/home/stiben/anaconda3/lib/python3.5/site-packages/docx/styles/styles.py:54: UserWarning: style lookup by style_id is deprecated. Use style name as key instead.\n",
      "  warn(msg, UserWarning)\n"
     ]
    },
    {
     "data": {
      "text/plain": [
       "<docx.text.run.Run at 0x7f16efdd05f8>"
      ]
     },
     "execution_count": 24,
     "metadata": {},
     "output_type": "execute_result"
    }
   ],
   "source": [
    "paragraph=document.add_paragraph()\n",
    "paragraph.style= 'ListNumber'\n",
    "paragraph.add_run('LINDEROS DEL PREDIO AFECTADO').bold=True\n",
    "\n",
    "paragraph=document.add_paragraph('El codigo ')\n",
    "paragraph_format= paragraph.paragraph_format\n",
    "paragraph_format.left_indent = Inches(0.5)\n",
    "paragraph.add_run('___________')\n",
    "paragraph.add_run( 'adjudicado a ')\n",
    "paragraph.add_run('___________________________________')\n",
    "paragraph.add_run('tiene un área en Consulta cuyos linderos son:')\n"
   ]
  },
  {
   "cell_type": "markdown",
   "metadata": {
    "collapsed": true
   },
   "source": [
    "Linderos del predio "
   ]
  },
  {
   "cell_type": "code",
   "execution_count": 25,
   "metadata": {
    "collapsed": true
   },
   "outputs": [],
   "source": [
    "paragraph=document.add_paragraph()\n",
    "paragraph_format= paragraph.paragraph_format\n",
    "paragraph_format.left_indent = Inches(0.5)\n",
    "paragraph.add_run('5.1   LINDEROS DEL PREDIO').bold=True\n",
    "\n",
    "paragraph=document.add_paragraph()\n",
    "paragraph_format= paragraph.paragraph_format\n",
    "paragraph_format.first_line_indent= Inches(-2.3)\n",
    "paragraph_format.left_indent = Inches(3)\n",
    "paragraph.add_run('Por el Norte  : Colinda con predio de __________________________________________________')\n",
    "paragraph.add_run('_________________________________')\n",
    "paragraph.add_run('________________________________________')\n",
    "paragraph_format.alignment= WD_ALIGN_PARAGRAPH.JUSTIFY\n",
    "\n",
    "paragraph=document.add_paragraph()\n",
    "paragraph_format= paragraph.paragraph_format\n",
    "paragraph_format.first_line_indent= Inches(-2.3)\n",
    "paragraph_format.left_indent = Inches(3)\n",
    "paragraph.add_run('Por el Sur    : Colinda con predio de __________________________________________________')\n",
    "paragraph.add_run('_________________________________')\n",
    "paragraph.add_run('________________________________________')\n",
    "paragraph_format.alignment= WD_ALIGN_PARAGRAPH.JUSTIFY\n",
    "\n",
    "paragraph=document.add_paragraph()\n",
    "paragraph_format= paragraph.paragraph_format\n",
    "paragraph_format.first_line_indent= Inches(-2.3)\n",
    "paragraph_format.left_indent = Inches(3)\n",
    "paragraph.add_run('Por el Este   : Colinda con predio de __________________________________________________')\n",
    "paragraph.add_run('_________________________________')\n",
    "paragraph.add_run('________________________________________')\n",
    "paragraph_format.alignment= WD_ALIGN_PARAGRAPH.JUSTIFY\n",
    "\n",
    "paragraph=document.add_paragraph()\n",
    "paragraph_format= paragraph.paragraph_format\n",
    "paragraph_format.first_line_indent= Inches(-2.3)\n",
    "paragraph_format.left_indent = Inches(3)\n",
    "paragraph.add_run('Por el Oeste  : Colinda con predio de __________________________________________________')\n",
    "paragraph.add_run('_________________________________')\n",
    "paragraph.add_run('________________________________________')\n",
    "paragraph_format.alignment= WD_ALIGN_PARAGRAPH.JUSTIFY"
   ]
  },
  {
   "cell_type": "markdown",
   "metadata": {
    "collapsed": true
   },
   "source": [
    "Cuadro de coordenadas y distancias perimetricas"
   ]
  },
  {
   "cell_type": "code",
   "execution_count": 26,
   "metadata": {
    "collapsed": false
   },
   "outputs": [
    {
     "name": "stderr",
     "output_type": "stream",
     "text": [
      "/home/stiben/anaconda3/lib/python3.5/site-packages/docx/styles/styles.py:54: UserWarning: style lookup by style_id is deprecated. Use style name as key instead.\n",
      "  warn(msg, UserWarning)\n"
     ]
    }
   ],
   "source": [
    "paragraph=document.add_paragraph()\n",
    "paragraph.style= 'ListNumber'\n",
    "paragraph.add_run('CUADRO DE COORDENADAS Y DISTANCIAS PERIMETRICAS').bold=True\n",
    "\n",
    "paragraph=document.add_paragraph()\n",
    "paragraph_format= paragraph.paragraph_format\n",
    "paragraph_format.left_indent = Inches(0.5)\n",
    "paragraph.add_run('El código')\n",
    "paragraph.add_run(' adjudicado a _______________')\n",
    "paragraph.add_run('tiene un área en Consulta cuyas coordenadas son:')\n",
    "paragraph_format.alignment= WD_ALIGN_PARAGRAPH.JUSTIFY\n",
    "\n"
   ]
  },
  {
   "cell_type": "code",
   "execution_count": 27,
   "metadata": {
    "collapsed": true
   },
   "outputs": [],
   "source": [
    "table = document.add_table(rows=1, cols=3)\n",
    "hdr_cells = table.rows[0].cells\n",
    "hdr_cells[0].text = 'Qty'\n",
    "hdr_cells[1].text = 'Id'\n",
    "hdr_cells[2].text = 'Desc'\n"
   ]
  },
  {
   "cell_type": "markdown",
   "metadata": {
    "collapsed": false
   },
   "source": [
    "DETALLES DE AREA"
   ]
  },
  {
   "cell_type": "code",
   "execution_count": 28,
   "metadata": {
    "collapsed": false
   },
   "outputs": [
    {
     "name": "stderr",
     "output_type": "stream",
     "text": [
      "/home/stiben/anaconda3/lib/python3.5/site-packages/docx/styles/styles.py:54: UserWarning: style lookup by style_id is deprecated. Use style name as key instead.\n",
      "  warn(msg, UserWarning)\n"
     ]
    },
    {
     "ename": "ValueError",
     "evalue": "value '457200' not in enumeration WD_PARAGRAPH_ALIGNMENT",
     "output_type": "error",
     "traceback": [
      "\u001b[0;31m---------------------------------------------------------------------------\u001b[0m",
      "\u001b[0;31mValueError\u001b[0m                                Traceback (most recent call last)",
      "\u001b[0;32m<ipython-input-28-76a761844a13>\u001b[0m in \u001b[0;36m<module>\u001b[0;34m()\u001b[0m\n\u001b[1;32m      5\u001b[0m \u001b[0mparagraph\u001b[0m\u001b[0;34m=\u001b[0m\u001b[0mdocument\u001b[0m\u001b[0;34m.\u001b[0m\u001b[0madd_paragraph\u001b[0m\u001b[0;34m(\u001b[0m\u001b[0;34m)\u001b[0m\u001b[0;34m\u001b[0m\u001b[0m\n\u001b[1;32m      6\u001b[0m \u001b[0mparagraph_format\u001b[0m\u001b[0;34m=\u001b[0m\u001b[0mparagraph\u001b[0m\u001b[0;34m.\u001b[0m\u001b[0mparagraph_format\u001b[0m\u001b[0;34m\u001b[0m\u001b[0m\n\u001b[0;32m----> 7\u001b[0;31m \u001b[0mparagraph_format\u001b[0m\u001b[0;34m.\u001b[0m\u001b[0malignment\u001b[0m\u001b[0;34m=\u001b[0m \u001b[0mInches\u001b[0m\u001b[0;34m(\u001b[0m\u001b[0;36m0.5\u001b[0m\u001b[0;34m)\u001b[0m\u001b[0;34m\u001b[0m\u001b[0m\n\u001b[0m\u001b[1;32m      8\u001b[0m \u001b[0mparagraph\u001b[0m\u001b[0;34m.\u001b[0m\u001b[0madd_run\u001b[0m\u001b[0;34m(\u001b[0m\u001b[0;34m'Área   :'\u001b[0m\u001b[0;34m)\u001b[0m\u001b[0;34m\u001b[0m\u001b[0m\n\u001b[1;32m      9\u001b[0m \u001b[0mparagraph\u001b[0m\u001b[0;34m.\u001b[0m\u001b[0madd_run\u001b[0m\u001b[0;34m(\u001b[0m\u001b[0;34m'_____________________'\u001b[0m\u001b[0;34m)\u001b[0m\u001b[0;34m\u001b[0m\u001b[0m\n",
      "\u001b[0;32m/home/stiben/anaconda3/lib/python3.5/site-packages/docx/text/parfmt.py\u001b[0m in \u001b[0;36malignment\u001b[0;34m(self, value)\u001b[0m\n\u001b[1;32m     38\u001b[0m     \u001b[0;32mdef\u001b[0m \u001b[0malignment\u001b[0m\u001b[0;34m(\u001b[0m\u001b[0mself\u001b[0m\u001b[0;34m,\u001b[0m \u001b[0mvalue\u001b[0m\u001b[0;34m)\u001b[0m\u001b[0;34m:\u001b[0m\u001b[0;34m\u001b[0m\u001b[0m\n\u001b[1;32m     39\u001b[0m         \u001b[0mpPr\u001b[0m \u001b[0;34m=\u001b[0m \u001b[0mself\u001b[0m\u001b[0;34m.\u001b[0m\u001b[0m_element\u001b[0m\u001b[0;34m.\u001b[0m\u001b[0mget_or_add_pPr\u001b[0m\u001b[0;34m(\u001b[0m\u001b[0;34m)\u001b[0m\u001b[0;34m\u001b[0m\u001b[0m\n\u001b[0;32m---> 40\u001b[0;31m         \u001b[0mpPr\u001b[0m\u001b[0;34m.\u001b[0m\u001b[0mjc_val\u001b[0m \u001b[0;34m=\u001b[0m \u001b[0mvalue\u001b[0m\u001b[0;34m\u001b[0m\u001b[0m\n\u001b[0m\u001b[1;32m     41\u001b[0m \u001b[0;34m\u001b[0m\u001b[0m\n\u001b[1;32m     42\u001b[0m     \u001b[0;34m@\u001b[0m\u001b[0mproperty\u001b[0m\u001b[0;34m\u001b[0m\u001b[0m\n",
      "\u001b[0;32m/home/stiben/anaconda3/lib/python3.5/site-packages/docx/oxml/text/parfmt.py\u001b[0m in \u001b[0;36mjc_val\u001b[0;34m(self, value)\u001b[0m\n\u001b[1;32m    141\u001b[0m             \u001b[0mself\u001b[0m\u001b[0;34m.\u001b[0m\u001b[0m_remove_jc\u001b[0m\u001b[0;34m(\u001b[0m\u001b[0;34m)\u001b[0m\u001b[0;34m\u001b[0m\u001b[0m\n\u001b[1;32m    142\u001b[0m             \u001b[0;32mreturn\u001b[0m\u001b[0;34m\u001b[0m\u001b[0m\n\u001b[0;32m--> 143\u001b[0;31m         \u001b[0mself\u001b[0m\u001b[0;34m.\u001b[0m\u001b[0mget_or_add_jc\u001b[0m\u001b[0;34m(\u001b[0m\u001b[0;34m)\u001b[0m\u001b[0;34m.\u001b[0m\u001b[0mval\u001b[0m \u001b[0;34m=\u001b[0m \u001b[0mvalue\u001b[0m\u001b[0;34m\u001b[0m\u001b[0m\n\u001b[0m\u001b[1;32m    144\u001b[0m \u001b[0;34m\u001b[0m\u001b[0m\n\u001b[1;32m    145\u001b[0m     \u001b[0;34m@\u001b[0m\u001b[0mproperty\u001b[0m\u001b[0;34m\u001b[0m\u001b[0m\n",
      "\u001b[0;32m/home/stiben/anaconda3/lib/python3.5/site-packages/docx/oxml/xmlchemy.py\u001b[0m in \u001b[0;36mset_attr_value\u001b[0;34m(obj, value)\u001b[0m\n\u001b[1;32m    241\u001b[0m         \"\"\"\n\u001b[1;32m    242\u001b[0m         \u001b[0;32mdef\u001b[0m \u001b[0mset_attr_value\u001b[0m\u001b[0;34m(\u001b[0m\u001b[0mobj\u001b[0m\u001b[0;34m,\u001b[0m \u001b[0mvalue\u001b[0m\u001b[0;34m)\u001b[0m\u001b[0;34m:\u001b[0m\u001b[0;34m\u001b[0m\u001b[0m\n\u001b[0;32m--> 243\u001b[0;31m             \u001b[0mstr_value\u001b[0m \u001b[0;34m=\u001b[0m \u001b[0mself\u001b[0m\u001b[0;34m.\u001b[0m\u001b[0m_simple_type\u001b[0m\u001b[0;34m.\u001b[0m\u001b[0mto_xml\u001b[0m\u001b[0;34m(\u001b[0m\u001b[0mvalue\u001b[0m\u001b[0;34m)\u001b[0m\u001b[0;34m\u001b[0m\u001b[0m\n\u001b[0m\u001b[1;32m    244\u001b[0m             \u001b[0mobj\u001b[0m\u001b[0;34m.\u001b[0m\u001b[0mset\u001b[0m\u001b[0;34m(\u001b[0m\u001b[0mself\u001b[0m\u001b[0;34m.\u001b[0m\u001b[0m_clark_name\u001b[0m\u001b[0;34m,\u001b[0m \u001b[0mstr_value\u001b[0m\u001b[0;34m)\u001b[0m\u001b[0;34m\u001b[0m\u001b[0m\n\u001b[1;32m    245\u001b[0m         \u001b[0;32mreturn\u001b[0m \u001b[0mset_attr_value\u001b[0m\u001b[0;34m\u001b[0m\u001b[0m\n",
      "\u001b[0;32m/home/stiben/anaconda3/lib/python3.5/site-packages/docx/enum/base.py\u001b[0m in \u001b[0;36mto_xml\u001b[0;34m(cls, enum_val)\u001b[0m\n\u001b[1;32m    202\u001b[0m         \u001b[0;32mif\u001b[0m \u001b[0menum_val\u001b[0m \u001b[0;32mnot\u001b[0m \u001b[0;32min\u001b[0m \u001b[0mcls\u001b[0m\u001b[0;34m.\u001b[0m\u001b[0m_member_to_xml\u001b[0m\u001b[0;34m:\u001b[0m\u001b[0;34m\u001b[0m\u001b[0m\n\u001b[1;32m    203\u001b[0m             raise ValueError(\n\u001b[0;32m--> 204\u001b[0;31m                 \u001b[0;34m\"value '%s' not in enumeration %s\"\u001b[0m \u001b[0;34m%\u001b[0m \u001b[0;34m(\u001b[0m\u001b[0menum_val\u001b[0m\u001b[0;34m,\u001b[0m \u001b[0mcls\u001b[0m\u001b[0;34m.\u001b[0m\u001b[0m__name__\u001b[0m\u001b[0;34m)\u001b[0m\u001b[0;34m\u001b[0m\u001b[0m\n\u001b[0m\u001b[1;32m    205\u001b[0m             )\n\u001b[1;32m    206\u001b[0m         \u001b[0;32mreturn\u001b[0m \u001b[0mcls\u001b[0m\u001b[0;34m.\u001b[0m\u001b[0m_member_to_xml\u001b[0m\u001b[0;34m[\u001b[0m\u001b[0menum_val\u001b[0m\u001b[0;34m]\u001b[0m\u001b[0;34m\u001b[0m\u001b[0m\n",
      "\u001b[0;31mValueError\u001b[0m: value '457200' not in enumeration WD_PARAGRAPH_ALIGNMENT"
     ]
    }
   ],
   "source": [
    "paragraph=document.add_paragraph()\n",
    "paragraph.add_run('DETALLES DE AREA').bold= True\n",
    "paragraph.style= 'ListNumber'\n",
    "\n",
    "paragraph=document.add_paragraph()\n",
    "paragraph_format=paragraph.paragraph_format\n",
    "paragraph_format.left_indent= Inches(0.5)\n",
    "paragraph.add_run('Área   :')\n",
    "paragraph.add_run('_____________________')"
   ]
  },
  {
   "cell_type": "markdown",
   "metadata": {},
   "source": [
    "DETALLES DE PERIMETRO"
   ]
  },
  {
   "cell_type": "code",
   "execution_count": 29,
   "metadata": {
    "collapsed": false
   },
   "outputs": [
    {
     "name": "stderr",
     "output_type": "stream",
     "text": [
      "/home/stiben/anaconda3/lib/python3.5/site-packages/docx/styles/styles.py:54: UserWarning: style lookup by style_id is deprecated. Use style name as key instead.\n",
      "  warn(msg, UserWarning)\n"
     ]
    },
    {
     "data": {
      "text/plain": [
       "<docx.text.run.Run at 0x7f16efdd4240>"
      ]
     },
     "execution_count": 29,
     "metadata": {},
     "output_type": "execute_result"
    }
   ],
   "source": [
    "paragraph=document.add_paragraph()\n",
    "paragraph.add_run('DETALLES DE PERIMETRO').bold= True\n",
    "paragraph.style= 'ListNumber'\n",
    "\n",
    "paragraph=document.add_paragraph()\n",
    "paragraph_format=paragraph.paragraph_format\n",
    "paragraph_format.left_indent= Inches(0.5)\n",
    "paragraph.add_run('Perímetro  :')\n",
    "paragraph.add_run('_____________________')"
   ]
  },
  {
   "cell_type": "markdown",
   "metadata": {},
   "source": [
    "OBSERVACIONES"
   ]
  },
  {
   "cell_type": "code",
   "execution_count": 30,
   "metadata": {
    "collapsed": false
   },
   "outputs": [
    {
     "name": "stderr",
     "output_type": "stream",
     "text": [
      "/home/stiben/anaconda3/lib/python3.5/site-packages/docx/styles/styles.py:54: UserWarning: style lookup by style_id is deprecated. Use style name as key instead.\n",
      "  warn(msg, UserWarning)\n"
     ]
    },
    {
     "data": {
      "text/plain": [
       "<docx.text.run.Run at 0x7f16efdfdcc0>"
      ]
     },
     "execution_count": 30,
     "metadata": {},
     "output_type": "execute_result"
    }
   ],
   "source": [
    "paragraph=document.add_paragraph()\n",
    "paragraph.add_run('OBSERVACIONES').bold= True\n",
    "paragraph.style= 'ListNumber'\n",
    "\n",
    "paragraph=document.add_paragraph()\n",
    "paragraph_format=paragraph.paragraph_format\n",
    "paragraph_format.left_indent= Inches(0.5)\n",
    "paragraph.add_run('_____________________')"
   ]
  },
  {
   "cell_type": "markdown",
   "metadata": {},
   "source": [
    "PLANO"
   ]
  },
  {
   "cell_type": "code",
   "execution_count": 31,
   "metadata": {
    "collapsed": false
   },
   "outputs": [
    {
     "name": "stderr",
     "output_type": "stream",
     "text": [
      "/home/stiben/anaconda3/lib/python3.5/site-packages/docx/styles/styles.py:54: UserWarning: style lookup by style_id is deprecated. Use style name as key instead.\n",
      "  warn(msg, UserWarning)\n"
     ]
    }
   ],
   "source": [
    "paragraph=document.add_paragraph()\n",
    "paragraph.add_run('PLANO').bold= True\n",
    "paragraph.style= 'ListNumber'\n",
    "\n",
    "paragraph=document.add_paragraph()\n",
    "paragraph_format=paragraph.paragraph_format\n",
    "paragraph_format.left_indent= Inches(0.5)\n",
    "paragraph.add_run('Se adjunta el Plano Perimétrico de código')\n",
    "paragraph.add_run('_____________________')\n",
    "document.save('demo.docx')"
   ]
  },
  {
   "cell_type": "code",
   "execution_count": null,
   "metadata": {
    "collapsed": true
   },
   "outputs": [],
   "source": []
  },
  {
   "cell_type": "code",
   "execution_count": null,
   "metadata": {
    "collapsed": true
   },
   "outputs": [],
   "source": []
  },
  {
   "cell_type": "code",
   "execution_count": null,
   "metadata": {
    "collapsed": true
   },
   "outputs": [],
   "source": []
  }
 ],
 "metadata": {
  "anaconda-cloud": {},
  "kernelspec": {
   "display_name": "Python [conda root]",
   "language": "python",
   "name": "conda-root-py"
  },
  "language_info": {
   "codemirror_mode": {
    "name": "ipython",
    "version": 3
   },
   "file_extension": ".py",
   "mimetype": "text/x-python",
   "name": "python",
   "nbconvert_exporter": "python",
   "pygments_lexer": "ipython3",
   "version": "3.5.2"
  }
 },
 "nbformat": 4,
 "nbformat_minor": 1
}
