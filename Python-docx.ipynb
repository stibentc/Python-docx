{
 "cells": [
  {
   "cell_type": "code",
   "execution_count": 29,
   "metadata": {
    "collapsed": false
   },
   "outputs": [],
   "source": [
    "from docx import Document\n",
    "from docx.enum.text import WD_ALIGN_PARAGRAPH, WD_TAB_LEADER, WD_TAB_ALIGNMENT\n",
    "from docx.shared import Inches\n",
    "from docx.shared import Pt\n",
    "from docx.shared import Length"
   ]
  },
  {
   "cell_type": "code",
   "execution_count": 30,
   "metadata": {
    "collapsed": false,
    "scrolled": true
   },
   "outputs": [],
   "source": [
    "document = Document()\n",
    "\n",
    "m= document.add_heading(' MEMORIA DESCRIPTIVA ')\n",
    "m.alignment = WD_ALIGN_PARAGRAPH.CENTER\n",
    "\n",
    "n=document.add_paragraph()\n",
    "n.add_run('GSP02-09-01-011-PRO-B').bold= True\n",
    "n.alignment=   WD_ALIGN_PARAGRAPH.CENTER"
   ]
  },
  {
   "cell_type": "code",
   "execution_count": 31,
   "metadata": {
    "collapsed": false
   },
   "outputs": [],
   "source": [
    "# tabs \\t or \\n use slash inverted\n",
    "# pa= document.add_paragraph('\\t \\t \\t hola')"
   ]
  },
  {
   "cell_type": "markdown",
   "metadata": {},
   "source": [
    "CONDICION LEGAL"
   ]
  },
  {
   "cell_type": "code",
   "execution_count": 32,
   "metadata": {
    "collapsed": false
   },
   "outputs": [
    {
     "name": "stderr",
     "output_type": "stream",
     "text": [
      "/home/stiben/anaconda3/lib/python3.5/site-packages/docx/styles/styles.py:54: UserWarning: style lookup by style_id is deprecated. Use style name as key instead.\n",
      "  warn(msg, UserWarning)\n"
     ]
    },
    {
     "data": {
      "text/plain": [
       "<docx.text.run.Run at 0x7f9ed1f2e518>"
      ]
     },
     "execution_count": 32,
     "metadata": {},
     "output_type": "execute_result"
    }
   ],
   "source": [
    "paragraph=document.add_paragraph()\n",
    "paragraph_format=paragraph.paragraph_format\n",
    "paragraph.style= 'ListNumber'\n",
    "paragraph.add_run('CONDICION LEGAL :').bold=True\n",
    "paragraph.add_run('\\t \\t Propietario \\n  ')"
   ]
  },
  {
   "cell_type": "markdown",
   "metadata": {},
   "source": [
    "NOMBRES"
   ]
  },
  {
   "cell_type": "code",
   "execution_count": 33,
   "metadata": {
    "collapsed": false
   },
   "outputs": [
    {
     "name": "stderr",
     "output_type": "stream",
     "text": [
      "/home/stiben/anaconda3/lib/python3.5/site-packages/docx/styles/styles.py:54: UserWarning: style lookup by style_id is deprecated. Use style name as key instead.\n",
      "  warn(msg, UserWarning)\n"
     ]
    },
    {
     "data": {
      "text/plain": [
       "<docx.text.run.Run at 0x7f9ed1f2e860>"
      ]
     },
     "execution_count": 33,
     "metadata": {},
     "output_type": "execute_result"
    }
   ],
   "source": [
    "paragraph=document.add_paragraph()\n",
    "paragraph_format=paragraph.paragraph_format\n",
    "paragraph.style= 'ListNumber'\n",
    "paragraph.add_run('NOMBRES :').bold=True\n",
    "paragraph.add_run('\\t \\t HUAYTA SULLA, LUCIANO \\n')"
   ]
  },
  {
   "cell_type": "markdown",
   "metadata": {},
   "source": [
    "ZONIFICACION"
   ]
  },
  {
   "cell_type": "code",
   "execution_count": 34,
   "metadata": {
    "collapsed": false
   },
   "outputs": [
    {
     "name": "stderr",
     "output_type": "stream",
     "text": [
      "/home/stiben/anaconda3/lib/python3.5/site-packages/docx/styles/styles.py:54: UserWarning: style lookup by style_id is deprecated. Use style name as key instead.\n",
      "  warn(msg, UserWarning)\n"
     ]
    },
    {
     "data": {
      "text/plain": [
       "<docx.text.run.Run at 0x7f9ed1f35208>"
      ]
     },
     "execution_count": 34,
     "metadata": {},
     "output_type": "execute_result"
    }
   ],
   "source": [
    "paragraph=document.add_paragraph()\n",
    "paragraph_format=paragraph.paragraph_format\n",
    "paragraph.style= 'ListNumber'\n",
    "paragraph.add_run(' ZONIFICACION  ').bold=True\n",
    "\n",
    "paragraph=document.add_paragraph()\n",
    "paragraph_format=paragraph.paragraph_format\n",
    "paragraph.add_run('\\t Zonificación :')"
   ]
  },
  {
   "cell_type": "markdown",
   "metadata": {},
   "source": [
    "UBICACION"
   ]
  },
  {
   "cell_type": "code",
   "execution_count": 35,
   "metadata": {
    "collapsed": false
   },
   "outputs": [
    {
     "name": "stderr",
     "output_type": "stream",
     "text": [
      "/home/stiben/anaconda3/lib/python3.5/site-packages/docx/styles/styles.py:54: UserWarning: style lookup by style_id is deprecated. Use style name as key instead.\n",
      "  warn(msg, UserWarning)\n"
     ]
    },
    {
     "data": {
      "text/plain": [
       "<docx.text.run.Run at 0x7f9ed1f37470>"
      ]
     },
     "execution_count": 35,
     "metadata": {},
     "output_type": "execute_result"
    }
   ],
   "source": [
    "paragraph=document.add_paragraph()\n",
    "paragraph_format=paragraph.paragraph_format\n",
    "paragraph.style= 'ListNumber'\n",
    "paragraph.add_run('UBICACION : ').bold=True\n",
    "\n",
    "paragraph=document.add_paragraph()\n",
    "paragraph_format=paragraph.paragraph_format\n",
    "paragraph.add_run('\\t Centro Poblado/Caserio : \\n')\n",
    "paragraph.add_run('\\t Anexo/Sector           : \\n ')\n",
    "paragraph.add_run('\\t Distrito               : \\n ')\n",
    "paragraph.add_run('\\t Provincia              : \\n ')\n",
    "paragraph.add_run('\\t Departamento           : \\n ')\n",
    "paragraph.add_run('\\t Nombre del predio      : \\n ')\n",
    "paragraph.add_run('\\t Partida Electrónica    : \\n ')\n",
    "paragraph.add_run('\\t Unidad Catastral       : \\n ')\n",
    "paragraph.add_run('\\t Accesibilidad          : \\n ')\n"
   ]
  },
  {
   "cell_type": "raw",
   "metadata": {},
   "source": [
    "LINDEROS"
   ]
  },
  {
   "cell_type": "code",
   "execution_count": 36,
   "metadata": {
    "collapsed": false
   },
   "outputs": [
    {
     "name": "stderr",
     "output_type": "stream",
     "text": [
      "/home/stiben/anaconda3/lib/python3.5/site-packages/docx/styles/styles.py:54: UserWarning: style lookup by style_id is deprecated. Use style name as key instead.\n",
      "  warn(msg, UserWarning)\n"
     ]
    },
    {
     "data": {
      "text/plain": [
       "<docx.text.run.Run at 0x7f9ed1f37a20>"
      ]
     },
     "execution_count": 36,
     "metadata": {},
     "output_type": "execute_result"
    }
   ],
   "source": [
    "paragraph=document.add_paragraph()\n",
    "paragraph.style= 'ListNumber'\n",
    "paragraph.add_run('LINDEROS DEL PREDIO AFECTADO').bold=True\n",
    "\n",
    "paragraph=document.add_paragraph('El codigo ')\n",
    "paragraph_format= paragraph.paragraph_format\n",
    "paragraph_format.left_indent = Inches(0.5)\n",
    "paragraph.add_run('___________')\n",
    "paragraph.add_run( 'adjudicado a ')\n",
    "paragraph.add_run('___________________________________')\n",
    "paragraph.add_run('tiene un área en Consulta cuyos linderos son:')\n",
    "\n",
    "paragraph=document.add_paragraph()\n",
    "paragraph_format= paragraph.paragraph_format\n",
    "paragraph_format.left_indent = Inches(0.5)\n",
    "paragraph.add_run('5.1   LINDEROS DEL PREDIO').bold=True\n",
    "\n",
    "paragraph=document.add_paragraph()\n",
    "paragraph_format= paragraph.paragraph_format\n",
    "paragraph_format.left_indent = Inches(0.6)\n",
    "paragraph.add_run('Por el Norte        :')\n"
   ]
  },
  {
   "cell_type": "code",
   "execution_count": null,
   "metadata": {
    "collapsed": true
   },
   "outputs": [],
   "source": []
  },
  {
   "cell_type": "code",
   "execution_count": null,
   "metadata": {
    "collapsed": true
   },
   "outputs": [],
   "source": []
  },
  {
   "cell_type": "code",
   "execution_count": null,
   "metadata": {
    "collapsed": true
   },
   "outputs": [],
   "source": []
  },
  {
   "cell_type": "code",
   "execution_count": null,
   "metadata": {
    "collapsed": true
   },
   "outputs": [],
   "source": []
  },
  {
   "cell_type": "code",
   "execution_count": null,
   "metadata": {
    "collapsed": true
   },
   "outputs": [],
   "source": []
  },
  {
   "cell_type": "code",
   "execution_count": 37,
   "metadata": {
    "collapsed": true
   },
   "outputs": [],
   "source": [
    "document.save('demo.docx')"
   ]
  },
  {
   "cell_type": "code",
   "execution_count": null,
   "metadata": {
    "collapsed": true
   },
   "outputs": [],
   "source": []
  },
  {
   "cell_type": "code",
   "execution_count": null,
   "metadata": {
    "collapsed": true
   },
   "outputs": [],
   "source": []
  }
 ],
 "metadata": {
  "anaconda-cloud": {},
  "kernelspec": {
   "display_name": "Python [conda root]",
   "language": "python",
   "name": "conda-root-py"
  },
  "language_info": {
   "codemirror_mode": {
    "name": "ipython",
    "version": 3
   },
   "file_extension": ".py",
   "mimetype": "text/x-python",
   "name": "python",
   "nbconvert_exporter": "python",
   "pygments_lexer": "ipython3",
   "version": "3.5.2"
  }
 },
 "nbformat": 4,
 "nbformat_minor": 1
}
